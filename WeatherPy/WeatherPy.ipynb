{
 "cells": [
  {
   "cell_type": "markdown",
   "metadata": {},
   "source": [
    "# WeatherPy\n",
    "----\n",
    "\n",
    "#### Note\n",
    "* Instructions have been included for each segment. You do not have to follow them exactly, but they are included to help you think through the steps."
   ]
  },
  {
   "cell_type": "code",
   "execution_count": 17,
   "metadata": {
    "scrolled": true
   },
   "outputs": [],
   "source": [
    "import matplotlib.pyplot as plt\n",
    "import requests\n",
    "import pandas as pd\n",
    "from api_keys import weather_api_key\n",
    "from citipy import citipy\n",
    "import random\n",
    "import json"
   ]
  },
  {
   "cell_type": "markdown",
   "metadata": {},
   "source": [
    "## Generate Cities List"
   ]
  },
  {
   "cell_type": "code",
   "execution_count": 82,
   "metadata": {},
   "outputs": [],
   "source": [
    "# create random list of coordinates\n",
    "\n",
    "latitude_list = []\n",
    "longitude_list = []\n",
    "desired_length = 10\n",
    "\n",
    "for i in range(0,desired_length*3):\n",
    "    n = random.uniform(-90, 90)\n",
    "    latitude_list.append(n)\n",
    "\n",
    "for j in range(0,desired_length*3):\n",
    "    n = random.uniform(-180, 180)\n",
    "    longitude_list.append(n)\n"
   ]
  },
  {
   "cell_type": "code",
   "execution_count": 103,
   "metadata": {},
   "outputs": [
    {
     "name": "stdout",
     "output_type": "stream",
     "text": [
      "{\n",
      "    \"coord\": {\n",
      "        \"lon\": 124.29,\n",
      "        \"lat\": 8\n",
      "    },\n",
      "    \"weather\": [\n",
      "        {\n",
      "            \"id\": 804,\n",
      "            \"main\": \"Clouds\",\n",
      "            \"description\": \"overcast clouds\",\n",
      "            \"icon\": \"04d\"\n",
      "        }\n",
      "    ],\n",
      "    \"base\": \"stations\",\n",
      "    \"main\": {\n",
      "        \"temp\": 82,\n",
      "        \"feels_like\": 91.92,\n",
      "        \"temp_min\": 82,\n",
      "        \"temp_max\": 82,\n",
      "        \"pressure\": 1009,\n",
      "        \"humidity\": 80\n",
      "    },\n",
      "    \"visibility\": 10000,\n",
      "    \"wind\": {\n",
      "        \"speed\": 1.01,\n",
      "        \"deg\": 234,\n",
      "        \"gust\": 4\n",
      "    },\n",
      "    \"clouds\": {\n",
      "        \"all\": 97\n",
      "    },\n",
      "    \"dt\": 1602983181,\n",
      "    \"sys\": {\n",
      "        \"type\": 3,\n",
      "        \"id\": 2007154,\n",
      "        \"country\": \"PH\",\n",
      "        \"sunrise\": 1602970194,\n",
      "        \"sunset\": 1603013145\n",
      "    },\n",
      "    \"timezone\": 28800,\n",
      "    \"id\": 1701054,\n",
      "    \"name\": \"Marawi\",\n",
      "    \"cod\": 200\n",
      "}\n"
     ]
    }
   ],
   "source": [
    "# create list of unique cities from the coordinates\n",
    "\n",
    "city_list = []\n",
    "\n",
    "for lat, lng in zip(latitude_list, longitude_list):\n",
    "    city = citipy.nearest_city(lat, lng).city_name\n",
    "    if city not in city_list:\n",
    "        city_list.append(city)\n",
    "\n",
    "print(len(city_list))\n",
    "\n",
    "#url = \"http://api.openweathermap.org/data/2.5/weather?\"\n",
    "#units = \"imperial\"\n",
    "#city = \"marawi\"\n",
    "#query_url = f\"{url}appid={weather_api_key}&q={city}&units={units}\"\n",
    "#weather_response = requests.get(query_url)\n",
    "#weather_json = weather_response.json()\n",
    "#print(json.dumps(weather_json, indent=4))\n"
   ]
  },
  {
   "cell_type": "markdown",
   "metadata": {},
   "source": [
    "### Perform API Calls\n",
    "* Perform a weather check on each city using a series of successive API calls.\n",
    "* Include a print log of each city as it'sbeing processed (with the city number and city name).\n"
   ]
  },
  {
   "cell_type": "code",
   "execution_count": 100,
   "metadata": {
    "scrolled": true
   },
   "outputs": [
    {
     "name": "stdout",
     "output_type": "stream",
     "text": [
      "City ID: 0, City Name: khandyga\n",
      "City ID: 1, City Name: saskylakh\n",
      "City ID: 2, City Name: iskateley\n",
      "City ID: 3, City Name: tuktoyaktuk\n",
      "City ID: 4, City Name: marawi\n",
      "City ID: 5, City Name: ushuaia\n",
      "City ID: 6, City Name: shablykino\n",
      "City ID: 7, City Name: rikitea\n",
      "City ID: 8, City Name: samarai\n",
      "City ID: 9, City Name: kapaa\n",
      "City ID: 10, City Name: baykit\n",
      "City ID: 11, City Name: vyshkov\n",
      "City ID: 12, City Name: upernavik\n",
      "City ID: 13, City Name: portland\n",
      "City ID: 14, City Name: punta arenas\n",
      "City ID: 15, City Name: arlit\n",
      "City ID: 16, City Name: dingle\n",
      "City ID: 17, City Name: bredasdorp\n",
      "City ID: 18, City Name: albany\n",
      "City ID: 19, City Name: gazanjyk\n",
      "City ID: 20, City Name: puerto ayora\n",
      "City ID: 21, City Name: kodiak\n",
      "City ID: 22, City Name: busselton\n",
      "City ID: 23, City Name: hobart\n",
      "City ID: 24, City Name: hithadhoo\n"
     ]
    }
   ],
   "source": [
    "city_id_list = []\n",
    "cityname_list = []\n",
    "cloudiness_list = []\n",
    "country_list = []\n",
    "date_list = []\n",
    "humidity_list = []\n",
    "lat_list = []\n",
    "lng_list = []\n",
    "max_temp_list = []\n",
    "wind_list = []\n",
    "city_id = 0\n",
    "\n",
    "url = \"http://api.openweathermap.org/data/2.5/weather?\"\n",
    "units = \"imperial\"\n",
    "\n",
    "for city in city_list:\n",
    "    query_url = f\"{url}appid={weather_api_key}&q={city}&units={units}\"\n",
    "    weather_response = requests.get(query_url)\n",
    "    weather_json = weather_response.json()\n",
    "    if weather_json[\"cod\"] == 200:\n",
    "        city_id_list.append(city_id)\n",
    "        cityname_list.append(city)\n",
    "        cloudiness_list.append(weather_json[\"clouds\"][\"all\"])\n",
    "        country_list.append(weather_json[\"sys\"][\"country\"])\n",
    "        date_list.append(weather_json[\"dt\"])\n",
    "        humidity_list.append(weather_json[\"main\"][\"humidity\"])\n",
    "        lat_list.append(weather_json[\"coord\"][\"lat\"])\n",
    "        lng_list.append(weather_json[\"coord\"][\"lon\"])\n",
    "        max_temp_list.append(weather_json[\"main\"][\"temp_max\"])\n",
    "        wind_list.append(weather_json[\"wind\"][\"speed\"])\n",
    "        print(f\"City ID: {city_id}, City Name: {city}\")\n",
    "        city_id += 1"
   ]
  },
  {
   "cell_type": "markdown",
   "metadata": {},
   "source": [
    "### Convert Raw Data to DataFrame\n",
    "* Export the city data into a .csv.\n",
    "* Display the DataFrame"
   ]
  },
  {
   "cell_type": "code",
   "execution_count": 102,
   "metadata": {},
   "outputs": [
    {
     "data": {
      "text/html": [
       "<div>\n",
       "<style scoped>\n",
       "    .dataframe tbody tr th:only-of-type {\n",
       "        vertical-align: middle;\n",
       "    }\n",
       "\n",
       "    .dataframe tbody tr th {\n",
       "        vertical-align: top;\n",
       "    }\n",
       "\n",
       "    .dataframe thead th {\n",
       "        text-align: right;\n",
       "    }\n",
       "</style>\n",
       "<table border=\"1\" class=\"dataframe\">\n",
       "  <thead>\n",
       "    <tr style=\"text-align: right;\">\n",
       "      <th></th>\n",
       "      <th>City ID</th>\n",
       "      <th>City</th>\n",
       "      <th>Cloudiness</th>\n",
       "      <th>Country</th>\n",
       "      <th>Date</th>\n",
       "      <th>Humidity</th>\n",
       "      <th>Lat</th>\n",
       "      <th>Lng</th>\n",
       "      <th>Max Temp</th>\n",
       "      <th>Wind Speed</th>\n",
       "    </tr>\n",
       "  </thead>\n",
       "  <tbody>\n",
       "    <tr>\n",
       "      <th>0</th>\n",
       "      <td>0</td>\n",
       "      <td>khandyga</td>\n",
       "      <td>100</td>\n",
       "      <td>RU</td>\n",
       "      <td>1602982534</td>\n",
       "      <td>93</td>\n",
       "      <td>62.67</td>\n",
       "      <td>135.60</td>\n",
       "      <td>19.45</td>\n",
       "      <td>3.85</td>\n",
       "    </tr>\n",
       "    <tr>\n",
       "      <th>1</th>\n",
       "      <td>1</td>\n",
       "      <td>saskylakh</td>\n",
       "      <td>98</td>\n",
       "      <td>RU</td>\n",
       "      <td>1602982367</td>\n",
       "      <td>96</td>\n",
       "      <td>71.92</td>\n",
       "      <td>114.08</td>\n",
       "      <td>13.60</td>\n",
       "      <td>5.59</td>\n",
       "    </tr>\n",
       "    <tr>\n",
       "      <th>2</th>\n",
       "      <td>2</td>\n",
       "      <td>iskateley</td>\n",
       "      <td>35</td>\n",
       "      <td>RU</td>\n",
       "      <td>1602982367</td>\n",
       "      <td>97</td>\n",
       "      <td>67.68</td>\n",
       "      <td>53.15</td>\n",
       "      <td>29.07</td>\n",
       "      <td>3.31</td>\n",
       "    </tr>\n",
       "    <tr>\n",
       "      <th>3</th>\n",
       "      <td>3</td>\n",
       "      <td>tuktoyaktuk</td>\n",
       "      <td>5</td>\n",
       "      <td>CA</td>\n",
       "      <td>1602982367</td>\n",
       "      <td>85</td>\n",
       "      <td>69.45</td>\n",
       "      <td>-133.04</td>\n",
       "      <td>17.60</td>\n",
       "      <td>5.82</td>\n",
       "    </tr>\n",
       "    <tr>\n",
       "      <th>4</th>\n",
       "      <td>4</td>\n",
       "      <td>marawi</td>\n",
       "      <td>97</td>\n",
       "      <td>PH</td>\n",
       "      <td>1602982368</td>\n",
       "      <td>80</td>\n",
       "      <td>8.00</td>\n",
       "      <td>124.29</td>\n",
       "      <td>82.00</td>\n",
       "      <td>1.01</td>\n",
       "    </tr>\n",
       "  </tbody>\n",
       "</table>\n",
       "</div>"
      ],
      "text/plain": [
       "   City ID         City  Cloudiness Country        Date  Humidity    Lat  \\\n",
       "0        0     khandyga         100      RU  1602982534        93  62.67   \n",
       "1        1    saskylakh          98      RU  1602982367        96  71.92   \n",
       "2        2    iskateley          35      RU  1602982367        97  67.68   \n",
       "3        3  tuktoyaktuk           5      CA  1602982367        85  69.45   \n",
       "4        4       marawi          97      PH  1602982368        80   8.00   \n",
       "\n",
       "      Lng  Max Temp  Wind Speed  \n",
       "0  135.60     19.45        3.85  \n",
       "1  114.08     13.60        5.59  \n",
       "2   53.15     29.07        3.31  \n",
       "3 -133.04     17.60        5.82  \n",
       "4  124.29     82.00        1.01  "
      ]
     },
     "execution_count": 102,
     "metadata": {},
     "output_type": "execute_result"
    }
   ],
   "source": [
    "weather_dict = {\n",
    "    \"City ID\": city_id_list,\n",
    "    \"City\": cityname_list,\n",
    "    \"Cloudiness\": cloudiness_list,\n",
    "    \"Country\": country_list,\n",
    "    \"Date\": date_list,\n",
    "    \"Humidity\": humidity_list,\n",
    "    \"Lat\": lat_list,\n",
    "    \"Lng\": lng_list,\n",
    "    \"Max Temp\": max_temp_list,\n",
    "    \"Wind Speed\": wind_list\n",
    "}\n",
    "weather_df = pd.DataFrame(weather_dict)\n",
    "weather_df.head()"
   ]
  },
  {
   "cell_type": "code",
   "execution_count": null,
   "metadata": {},
   "outputs": [],
   "source": []
  },
  {
   "cell_type": "markdown",
   "metadata": {},
   "source": [
    "## Inspect the data and remove the cities where the humidity > 100%.\n",
    "----\n",
    "Skip this step if there are no cities that have humidity > 100%. "
   ]
  },
  {
   "cell_type": "code",
   "execution_count": null,
   "metadata": {},
   "outputs": [],
   "source": []
  },
  {
   "cell_type": "code",
   "execution_count": 4,
   "metadata": {},
   "outputs": [],
   "source": [
    "#  Get the indices of cities that have humidity over 100%.\n"
   ]
  },
  {
   "cell_type": "code",
   "execution_count": 5,
   "metadata": {},
   "outputs": [],
   "source": [
    "# Make a new DataFrame equal to the city data to drop all humidity outliers by index.\n",
    "# Passing \"inplace=False\" will make a copy of the city_data DataFrame, which we call \"clean_city_data\".\n"
   ]
  },
  {
   "cell_type": "code",
   "execution_count": null,
   "metadata": {},
   "outputs": [],
   "source": [
    "\n"
   ]
  },
  {
   "cell_type": "markdown",
   "metadata": {},
   "source": [
    "## Plotting the Data\n",
    "* Use proper labeling of the plots using plot titles (including date of analysis) and axes labels.\n",
    "* Save the plotted figures as .pngs."
   ]
  },
  {
   "cell_type": "markdown",
   "metadata": {},
   "source": [
    "## Latitude vs. Temperature Plot"
   ]
  },
  {
   "cell_type": "code",
   "execution_count": null,
   "metadata": {
    "scrolled": true
   },
   "outputs": [],
   "source": []
  },
  {
   "cell_type": "markdown",
   "metadata": {},
   "source": [
    "## Latitude vs. Humidity Plot"
   ]
  },
  {
   "cell_type": "code",
   "execution_count": null,
   "metadata": {},
   "outputs": [],
   "source": []
  },
  {
   "cell_type": "markdown",
   "metadata": {},
   "source": [
    "## Latitude vs. Cloudiness Plot"
   ]
  },
  {
   "cell_type": "code",
   "execution_count": null,
   "metadata": {},
   "outputs": [],
   "source": []
  },
  {
   "cell_type": "markdown",
   "metadata": {},
   "source": [
    "## Latitude vs. Wind Speed Plot"
   ]
  },
  {
   "cell_type": "code",
   "execution_count": null,
   "metadata": {},
   "outputs": [],
   "source": []
  },
  {
   "cell_type": "markdown",
   "metadata": {},
   "source": [
    "## Linear Regression"
   ]
  },
  {
   "cell_type": "code",
   "execution_count": null,
   "metadata": {},
   "outputs": [],
   "source": []
  },
  {
   "cell_type": "markdown",
   "metadata": {},
   "source": [
    "####  Northern Hemisphere - Max Temp vs. Latitude Linear Regression"
   ]
  },
  {
   "cell_type": "code",
   "execution_count": null,
   "metadata": {},
   "outputs": [],
   "source": []
  },
  {
   "cell_type": "markdown",
   "metadata": {},
   "source": [
    "####  Southern Hemisphere - Max Temp vs. Latitude Linear Regression"
   ]
  },
  {
   "cell_type": "code",
   "execution_count": null,
   "metadata": {},
   "outputs": [],
   "source": []
  },
  {
   "cell_type": "markdown",
   "metadata": {},
   "source": [
    "####  Northern Hemisphere - Humidity (%) vs. Latitude Linear Regression"
   ]
  },
  {
   "cell_type": "code",
   "execution_count": null,
   "metadata": {},
   "outputs": [],
   "source": []
  },
  {
   "cell_type": "markdown",
   "metadata": {},
   "source": [
    "####  Southern Hemisphere - Humidity (%) vs. Latitude Linear Regression"
   ]
  },
  {
   "cell_type": "code",
   "execution_count": null,
   "metadata": {},
   "outputs": [],
   "source": []
  },
  {
   "cell_type": "markdown",
   "metadata": {},
   "source": [
    "####  Northern Hemisphere - Cloudiness (%) vs. Latitude Linear Regression"
   ]
  },
  {
   "cell_type": "code",
   "execution_count": null,
   "metadata": {},
   "outputs": [],
   "source": []
  },
  {
   "cell_type": "markdown",
   "metadata": {},
   "source": [
    "####  Southern Hemisphere - Cloudiness (%) vs. Latitude Linear Regression"
   ]
  },
  {
   "cell_type": "code",
   "execution_count": null,
   "metadata": {},
   "outputs": [],
   "source": []
  },
  {
   "cell_type": "markdown",
   "metadata": {},
   "source": [
    "####  Northern Hemisphere - Wind Speed (mph) vs. Latitude Linear Regression"
   ]
  },
  {
   "cell_type": "code",
   "execution_count": null,
   "metadata": {},
   "outputs": [],
   "source": []
  },
  {
   "cell_type": "markdown",
   "metadata": {},
   "source": [
    "####  Southern Hemisphere - Wind Speed (mph) vs. Latitude Linear Regression"
   ]
  },
  {
   "cell_type": "code",
   "execution_count": null,
   "metadata": {},
   "outputs": [],
   "source": []
  },
  {
   "cell_type": "code",
   "execution_count": null,
   "metadata": {},
   "outputs": [],
   "source": []
  }
 ],
 "metadata": {
  "anaconda-cloud": {},
  "kernel_info": {
   "name": "python3"
  },
  "kernelspec": {
   "display_name": "Python [conda env:PythonData] *",
   "language": "python",
   "name": "conda-env-PythonData-py"
  },
  "language_info": {
   "codemirror_mode": {
    "name": "ipython",
    "version": 3
   },
   "file_extension": ".py",
   "mimetype": "text/x-python",
   "name": "python",
   "nbconvert_exporter": "python",
   "pygments_lexer": "ipython3",
   "version": "3.6.10"
  },
  "latex_envs": {
   "LaTeX_envs_menu_present": true,
   "autoclose": false,
   "autocomplete": true,
   "bibliofile": "biblio.bib",
   "cite_by": "apalike",
   "current_citInitial": 1,
   "eqLabelWithNumbers": true,
   "eqNumInitial": 1,
   "hotkeys": {
    "equation": "Ctrl-E",
    "itemize": "Ctrl-I"
   },
   "labels_anchors": false,
   "latex_user_defs": false,
   "report_style_numbering": false,
   "user_envs_cfg": false
  },
  "nteract": {
   "version": "0.12.3"
  }
 },
 "nbformat": 4,
 "nbformat_minor": 2
}
