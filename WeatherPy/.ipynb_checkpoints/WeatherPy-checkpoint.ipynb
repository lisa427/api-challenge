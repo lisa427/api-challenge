{
 "cells": [
  {
   "cell_type": "markdown",
   "metadata": {},
   "source": [
    "# WeatherPy\n",
    "----\n",
    "\n",
    "#### Note\n",
    "* Instructions have been included for each segment. You do not have to follow them exactly, but they are included to help you think through the steps."
   ]
  },
  {
   "cell_type": "code",
   "execution_count": 17,
   "metadata": {
    "scrolled": true
   },
   "outputs": [],
   "source": [
    "import matplotlib.pyplot as plt\n",
    "import requests\n",
    "import pandas as pd\n",
    "from api_keys import weather_api_key\n",
    "from citipy import citipy\n",
    "import random\n",
    "import json"
   ]
  },
  {
   "cell_type": "markdown",
   "metadata": {},
   "source": [
    "## Generate Cities List"
   ]
  },
  {
   "cell_type": "code",
   "execution_count": 82,
   "metadata": {},
   "outputs": [],
   "source": [
    "# create random list of coordinates\n",
    "\n",
    "latitude_list = []\n",
    "longitude_list = []\n",
    "desired_length = 10\n",
    "\n",
    "for i in range(0,desired_length*3):\n",
    "    n = random.uniform(-90, 90)\n",
    "    latitude_list.append(n)\n",
    "\n",
    "for j in range(0,desired_length*3):\n",
    "    n = random.uniform(-180, 180)\n",
    "    longitude_list.append(n)\n"
   ]
  },
  {
   "cell_type": "code",
   "execution_count": 93,
   "metadata": {},
   "outputs": [
    {
     "name": "stdout",
     "output_type": "stream",
     "text": [
      "200\n"
     ]
    }
   ],
   "source": [
    "# create list of unique cities from the coordinates\n",
    "\n",
    "city_list = []\n",
    "\n",
    "for lat, lng in zip(latitude_list, longitude_list):\n",
    "    city = citipy.nearest_city(lat, lng).city_name\n",
    "    if city not in city_list:\n",
    "        city_list.append(city)\n",
    "\n",
    "#print(city_list)\n",
    "\n",
    "url = \"http://api.openweathermap.org/data/2.5/weather?\"\n",
    "units = \"imperial\"\n",
    "city = \"indianapolis\"\n",
    "query_url = f\"{url}appid={weather_api_key}&q={city}&units={units}\"\n",
    "weather_response = requests.get(query_url)\n",
    "weather_json = weather_response.json()\n",
    "#print(json.dumps(weather_json, indent=4))\n",
    "print(weather_json[\"cod\"])"
   ]
  },
  {
   "cell_type": "markdown",
   "metadata": {},
   "source": [
    "### Perform API Calls\n",
    "* Perform a weather check on each city using a series of successive API calls.\n",
    "* Include a print log of each city as it'sbeing processed (with the city number and city name).\n"
   ]
  },
  {
   "cell_type": "code",
   "execution_count": 100,
   "metadata": {
    "scrolled": true
   },
   "outputs": [
    {
     "name": "stdout",
     "output_type": "stream",
     "text": [
      "City ID: 0, City Name: khandyga\n",
      "City ID: 1, City Name: saskylakh\n",
      "City ID: 2, City Name: iskateley\n",
      "City ID: 3, City Name: tuktoyaktuk\n",
      "City ID: 4, City Name: marawi\n",
      "City ID: 5, City Name: ushuaia\n",
      "City ID: 6, City Name: shablykino\n",
      "City ID: 7, City Name: rikitea\n",
      "City ID: 8, City Name: samarai\n",
      "City ID: 9, City Name: kapaa\n",
      "City ID: 10, City Name: baykit\n",
      "City ID: 11, City Name: vyshkov\n",
      "City ID: 12, City Name: upernavik\n",
      "City ID: 13, City Name: portland\n",
      "City ID: 14, City Name: punta arenas\n",
      "City ID: 15, City Name: arlit\n",
      "City ID: 16, City Name: dingle\n",
      "City ID: 17, City Name: bredasdorp\n",
      "City ID: 18, City Name: albany\n",
      "City ID: 19, City Name: gazanjyk\n",
      "City ID: 20, City Name: puerto ayora\n",
      "City ID: 21, City Name: kodiak\n",
      "City ID: 22, City Name: busselton\n",
      "City ID: 23, City Name: hobart\n",
      "City ID: 24, City Name: hithadhoo\n"
     ]
    }
   ],
   "source": [
    "city_id_list = []\n",
    "cityname_list = []\n",
    "cloudiness_list = []\n",
    "country_list = []\n",
    "date_list = []\n",
    "humidity_list = []\n",
    "lat_list = []\n",
    "lng_list = []\n",
    "max_temp_list = []\n",
    "wind_list = []\n",
    "city_id = 0\n",
    "\n",
    "url = \"http://api.openweathermap.org/data/2.5/weather?\"\n",
    "units = \"imperial\"\n",
    "\n",
    "for city in city_list:\n",
    "    query_url = f\"{url}appid={weather_api_key}&q={city}&units={units}\"\n",
    "    weather_response = requests.get(query_url)\n",
    "    weather_json = weather_response.json()\n",
    "    if weather_json[\"cod\"] == 200:\n",
    "        city_id_list.append(city_id)\n",
    "        cityname_list.append(city)\n",
    "        cloudiness_list.append(weather_json[\"clouds\"][\"all\"])\n",
    "        country_list.append(weather_json[\"sys\"][\"country\"])\n",
    "        date_list.append(weather_json[\"dt\"])\n",
    "        humidity_list.append(weather_json[\"main\"][\"humidity\"])\n",
    "        lat_list.append(weather_json[\"coord\"][\"lat\"])\n",
    "        lng_list.append(weather_json[\"coord\"][\"lon\"])\n",
    "        max_temp_list.append(weather_json[\"main\"][\"temp_max\"])\n",
    "        wind_list.append(weather_json[\"wind\"][\"speed\"])\n",
    "        print(f\"City ID: {city_id}, City Name: {city}\")\n",
    "        city_id += 1"
   ]
  },
  {
   "cell_type": "markdown",
   "metadata": {},
   "source": [
    "### Convert Raw Data to DataFrame\n",
    "* Export the city data into a .csv.\n",
    "* Display the DataFrame"
   ]
  },
  {
   "cell_type": "code",
   "execution_count": null,
   "metadata": {},
   "outputs": [],
   "source": []
  },
  {
   "cell_type": "code",
   "execution_count": null,
   "metadata": {},
   "outputs": [],
   "source": []
  },
  {
   "cell_type": "markdown",
   "metadata": {},
   "source": [
    "## Inspect the data and remove the cities where the humidity > 100%.\n",
    "----\n",
    "Skip this step if there are no cities that have humidity > 100%. "
   ]
  },
  {
   "cell_type": "code",
   "execution_count": null,
   "metadata": {},
   "outputs": [],
   "source": []
  },
  {
   "cell_type": "code",
   "execution_count": 4,
   "metadata": {},
   "outputs": [],
   "source": [
    "#  Get the indices of cities that have humidity over 100%.\n"
   ]
  },
  {
   "cell_type": "code",
   "execution_count": 5,
   "metadata": {},
   "outputs": [],
   "source": [
    "# Make a new DataFrame equal to the city data to drop all humidity outliers by index.\n",
    "# Passing \"inplace=False\" will make a copy of the city_data DataFrame, which we call \"clean_city_data\".\n"
   ]
  },
  {
   "cell_type": "code",
   "execution_count": null,
   "metadata": {},
   "outputs": [],
   "source": [
    "\n"
   ]
  },
  {
   "cell_type": "markdown",
   "metadata": {},
   "source": [
    "## Plotting the Data\n",
    "* Use proper labeling of the plots using plot titles (including date of analysis) and axes labels.\n",
    "* Save the plotted figures as .pngs."
   ]
  },
  {
   "cell_type": "markdown",
   "metadata": {},
   "source": [
    "## Latitude vs. Temperature Plot"
   ]
  },
  {
   "cell_type": "code",
   "execution_count": null,
   "metadata": {
    "scrolled": true
   },
   "outputs": [],
   "source": []
  },
  {
   "cell_type": "markdown",
   "metadata": {},
   "source": [
    "## Latitude vs. Humidity Plot"
   ]
  },
  {
   "cell_type": "code",
   "execution_count": null,
   "metadata": {},
   "outputs": [],
   "source": []
  },
  {
   "cell_type": "markdown",
   "metadata": {},
   "source": [
    "## Latitude vs. Cloudiness Plot"
   ]
  },
  {
   "cell_type": "code",
   "execution_count": null,
   "metadata": {},
   "outputs": [],
   "source": []
  },
  {
   "cell_type": "markdown",
   "metadata": {},
   "source": [
    "## Latitude vs. Wind Speed Plot"
   ]
  },
  {
   "cell_type": "code",
   "execution_count": null,
   "metadata": {},
   "outputs": [],
   "source": []
  },
  {
   "cell_type": "markdown",
   "metadata": {},
   "source": [
    "## Linear Regression"
   ]
  },
  {
   "cell_type": "code",
   "execution_count": null,
   "metadata": {},
   "outputs": [],
   "source": []
  },
  {
   "cell_type": "markdown",
   "metadata": {},
   "source": [
    "####  Northern Hemisphere - Max Temp vs. Latitude Linear Regression"
   ]
  },
  {
   "cell_type": "code",
   "execution_count": null,
   "metadata": {},
   "outputs": [],
   "source": []
  },
  {
   "cell_type": "markdown",
   "metadata": {},
   "source": [
    "####  Southern Hemisphere - Max Temp vs. Latitude Linear Regression"
   ]
  },
  {
   "cell_type": "code",
   "execution_count": null,
   "metadata": {},
   "outputs": [],
   "source": []
  },
  {
   "cell_type": "markdown",
   "metadata": {},
   "source": [
    "####  Northern Hemisphere - Humidity (%) vs. Latitude Linear Regression"
   ]
  },
  {
   "cell_type": "code",
   "execution_count": null,
   "metadata": {},
   "outputs": [],
   "source": []
  },
  {
   "cell_type": "markdown",
   "metadata": {},
   "source": [
    "####  Southern Hemisphere - Humidity (%) vs. Latitude Linear Regression"
   ]
  },
  {
   "cell_type": "code",
   "execution_count": null,
   "metadata": {},
   "outputs": [],
   "source": []
  },
  {
   "cell_type": "markdown",
   "metadata": {},
   "source": [
    "####  Northern Hemisphere - Cloudiness (%) vs. Latitude Linear Regression"
   ]
  },
  {
   "cell_type": "code",
   "execution_count": null,
   "metadata": {},
   "outputs": [],
   "source": []
  },
  {
   "cell_type": "markdown",
   "metadata": {},
   "source": [
    "####  Southern Hemisphere - Cloudiness (%) vs. Latitude Linear Regression"
   ]
  },
  {
   "cell_type": "code",
   "execution_count": null,
   "metadata": {},
   "outputs": [],
   "source": []
  },
  {
   "cell_type": "markdown",
   "metadata": {},
   "source": [
    "####  Northern Hemisphere - Wind Speed (mph) vs. Latitude Linear Regression"
   ]
  },
  {
   "cell_type": "code",
   "execution_count": null,
   "metadata": {},
   "outputs": [],
   "source": []
  },
  {
   "cell_type": "markdown",
   "metadata": {},
   "source": [
    "####  Southern Hemisphere - Wind Speed (mph) vs. Latitude Linear Regression"
   ]
  },
  {
   "cell_type": "code",
   "execution_count": null,
   "metadata": {},
   "outputs": [],
   "source": []
  },
  {
   "cell_type": "code",
   "execution_count": null,
   "metadata": {},
   "outputs": [],
   "source": []
  }
 ],
 "metadata": {
  "anaconda-cloud": {},
  "kernel_info": {
   "name": "python3"
  },
  "kernelspec": {
   "display_name": "Python [conda env:PythonData] *",
   "language": "python",
   "name": "conda-env-PythonData-py"
  },
  "language_info": {
   "codemirror_mode": {
    "name": "ipython",
    "version": 3
   },
   "file_extension": ".py",
   "mimetype": "text/x-python",
   "name": "python",
   "nbconvert_exporter": "python",
   "pygments_lexer": "ipython3",
   "version": "3.6.10"
  },
  "latex_envs": {
   "LaTeX_envs_menu_present": true,
   "autoclose": false,
   "autocomplete": true,
   "bibliofile": "biblio.bib",
   "cite_by": "apalike",
   "current_citInitial": 1,
   "eqLabelWithNumbers": true,
   "eqNumInitial": 1,
   "hotkeys": {
    "equation": "Ctrl-E",
    "itemize": "Ctrl-I"
   },
   "labels_anchors": false,
   "latex_user_defs": false,
   "report_style_numbering": false,
   "user_envs_cfg": false
  },
  "nteract": {
   "version": "0.12.3"
  }
 },
 "nbformat": 4,
 "nbformat_minor": 2
}
